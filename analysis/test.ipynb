{
 "cells": [
  {
   "cell_type": "markdown",
   "id": "6754121f",
   "metadata": {},
   "source": [
    "# Project Goal:\n",
    "Your mission is to build a command-line tool using Python that can fetch and display the current weather for any city in the world. You will write a script that interacts with a real-world web service (an API) to get live data and present it in a user-friendly way in the terminal.\n",
    "\n",
    "Learning Objectives:\n",
    "By completing this project, you will gain practical experience with:\n",
    " * Making API requests to a web service.\n",
    " * Using a major third-party Python library (requests).\n",
    " * Parsing and handling data in the standard JSON format.\n",
    " * Taking and processing user input.\n",
    " * Implementing robust error handling to make your application resilient.\n",
    "\n",
    "Estimated Time: Approximately 9-10 hours\n",
    "\n",
    "Crucial First Step: Getting Your API Key\n",
    "<pre>\n",
    "This project requires a personal \"API Key\" to access the weather data. You will get this from OpenWeatherMap.\n",
    "</pre>\n",
    "\n",
    "After you sign up, your new API key might not be active immediately. It can take anywhere from a few minutes to a couple of hours.\n",
    "\n",
    "Stretch goal: Create a beautiful streamlit app. Feel free to swap CLI with streamlit and mark CLI as stretch goal. Expected increase in completion time +4 hrs."
   ]
  },
  {
   "cell_type": "code",
   "execution_count": 40,
   "id": "b9448f3b",
   "metadata": {},
   "outputs": [],
   "source": [
    "import requests\n",
    "import pandas as pd \n",
    "import numpy as np "
   ]
  },
  {
   "cell_type": "code",
   "execution_count": 18,
   "id": "4a663b5b",
   "metadata": {},
   "outputs": [],
   "source": [
    "api_key = '5bd25bdfe8ef3e8d7036162b2e329230'\n",
    "city = input(\"Enter a city name: \")"
   ]
  },
  {
   "cell_type": "code",
   "execution_count": 19,
   "id": "589c48e1",
   "metadata": {},
   "outputs": [],
   "source": [
    "url = f\"http://api.openweathermap.org/data/2.5/weather?q={city}&appid={api_key}&units=metric\"\n"
   ]
  },
  {
   "cell_type": "code",
   "execution_count": 20,
   "id": "1d3009af",
   "metadata": {},
   "outputs": [],
   "source": [
    "response = requests.get(url)"
   ]
  },
  {
   "cell_type": "code",
   "execution_count": 21,
   "id": "3696f38f",
   "metadata": {},
   "outputs": [],
   "source": [
    "weather_data = response.json()"
   ]
  },
  {
   "cell_type": "code",
   "execution_count": 27,
   "id": "b30e68bf",
   "metadata": {},
   "outputs": [
    {
     "data": {
      "text/plain": [
       "{'temp': 31.15,\n",
       " 'feels_like': 32.28,\n",
       " 'temp_min': 29.77,\n",
       " 'temp_max': 31.43,\n",
       " 'pressure': 1014,\n",
       " 'humidity': 47,\n",
       " 'sea_level': 1014,\n",
       " 'grnd_level': 1004}"
      ]
     },
     "execution_count": 27,
     "metadata": {},
     "output_type": "execute_result"
    }
   ],
   "source": [
    "weather_data['main']"
   ]
  },
  {
   "cell_type": "code",
   "execution_count": 23,
   "id": "09989ddb",
   "metadata": {},
   "outputs": [
    {
     "data": {
      "text/plain": [
       "{'coord': {'lon': 2.3488, 'lat': 48.8534},\n",
       " 'weather': [{'id': 800,\n",
       "   'main': 'Clear',\n",
       "   'description': 'clear sky',\n",
       "   'icon': '01d'}],\n",
       " 'base': 'stations',\n",
       " 'main': {'temp': 31.15,\n",
       "  'feels_like': 32.28,\n",
       "  'temp_min': 29.77,\n",
       "  'temp_max': 31.43,\n",
       "  'pressure': 1014,\n",
       "  'humidity': 47,\n",
       "  'sea_level': 1014,\n",
       "  'grnd_level': 1004},\n",
       " 'visibility': 10000,\n",
       " 'wind': {'speed': 1.54, 'deg': 0},\n",
       " 'clouds': {'all': 0},\n",
       " 'dt': 1755103610,\n",
       " 'sys': {'type': 1,\n",
       "  'id': 6548,\n",
       "  'country': 'FR',\n",
       "  'sunrise': 1755060037,\n",
       "  'sunset': 1755112230},\n",
       " 'timezone': 7200,\n",
       " 'id': 2988507,\n",
       " 'name': 'Paris',\n",
       " 'cod': 200}"
      ]
     },
     "execution_count": 23,
     "metadata": {},
     "output_type": "execute_result"
    }
   ],
   "source": [
    "weather_data"
   ]
  },
  {
   "cell_type": "code",
   "execution_count": 24,
   "id": "86c3e239",
   "metadata": {},
   "outputs": [
    {
     "data": {
      "text/plain": [
       "'Paris'"
      ]
     },
     "execution_count": 24,
     "metadata": {},
     "output_type": "execute_result"
    }
   ],
   "source": [
    "weather_data['name']"
   ]
  },
  {
   "cell_type": "code",
   "execution_count": 42,
   "id": "9dcb072e",
   "metadata": {},
   "outputs": [],
   "source": [
    "def get_weather_from_city(city, api_key, metric):\n",
    "    url = f\"http://api.openweathermap.org/data/2.5/weather?q={city}&appid={api_key}&units={metric}\"\n",
    "    response = requests.get(url)\n",
    "    weather_data = response.json()\n",
    "    return weather_data['main']"
   ]
  },
  {
   "cell_type": "code",
   "execution_count": 44,
   "id": "dd66bd78",
   "metadata": {},
   "outputs": [
    {
     "data": {
      "text/plain": [
       "{'temp': 31.83,\n",
       " 'feels_like': 33.17,\n",
       " 'temp_min': 30.1,\n",
       " 'temp_max': 33.93,\n",
       " 'pressure': 1019,\n",
       " 'humidity': 46,\n",
       " 'sea_level': 1019,\n",
       " 'grnd_level': 1008}"
      ]
     },
     "execution_count": 44,
     "metadata": {},
     "output_type": "execute_result"
    }
   ],
   "source": [
    "get_weather_from_city('Paris', api_key=api_key, metric='metric')"
   ]
  },
  {
   "cell_type": "code",
   "execution_count": null,
   "id": "337675c7",
   "metadata": {},
   "outputs": [],
   "source": []
  }
 ],
 "metadata": {
  "kernelspec": {
   "display_name": "Weather API",
   "language": "python",
   "name": "python3"
  },
  "language_info": {
   "codemirror_mode": {
    "name": "ipython",
    "version": 3
   },
   "file_extension": ".py",
   "mimetype": "text/x-python",
   "name": "python",
   "nbconvert_exporter": "python",
   "pygments_lexer": "ipython3",
   "version": "3.12.11"
  }
 },
 "nbformat": 4,
 "nbformat_minor": 5
}
